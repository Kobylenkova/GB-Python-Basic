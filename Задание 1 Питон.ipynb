{
 "cells": [
  {
   "cell_type": "markdown",
   "id": "07dde6f7",
   "metadata": {},
   "source": [
    "# Задание 1"
   ]
  },
  {
   "cell_type": "markdown",
   "id": "16ace320",
   "metadata": {},
   "source": [
    "## 1. Поработайте с переменными, создайте несколько, выведите на экран. Запросите у пользователя некоторые числа и строки и сохраните в переменные, затем выведите на экран."
   ]
  },
  {
   "cell_type": "code",
   "execution_count": null,
   "id": "0b34ecc3",
   "metadata": {},
   "outputs": [],
   "source": [
    "x = [1,2,3]\n",
    "y = (x[1], x[0])"
   ]
  },
  {
   "cell_type": "code",
   "execution_count": null,
   "id": "3f00391c",
   "metadata": {},
   "outputs": [],
   "source": [
    "print (y)"
   ]
  },
  {
   "cell_type": "code",
   "execution_count": null,
   "id": "b5fb9a1e",
   "metadata": {},
   "outputs": [],
   "source": [
    "z = int(input('введите число от 1 до 10: '))"
   ]
  },
  {
   "cell_type": "code",
   "execution_count": null,
   "id": "2c54b748",
   "metadata": {},
   "outputs": [],
   "source": [
    "print (z)"
   ]
  },
  {
   "cell_type": "code",
   "execution_count": null,
   "id": "9f5aa6e8",
   "metadata": {},
   "outputs": [],
   "source": [
    "c = input (\"введите ваше имя\")\n",
    "print ('Привет,',c,'!')"
   ]
  },
  {
   "cell_type": "markdown",
   "id": "b20756fa",
   "metadata": {},
   "source": [
    "## 2. Пользователь вводит время в секундах. Переведите время в часы, минуты, секунды и выведите в формате чч:мм:сс. Используйте форматирование строк."
   ]
  },
  {
   "cell_type": "markdown",
   "id": "effa8332",
   "metadata": {},
   "source": [
    "### Способ 1"
   ]
  },
  {
   "cell_type": "code",
   "execution_count": null,
   "id": "b01b8cfc",
   "metadata": {},
   "outputs": [],
   "source": [
    "t = int(input('введите время в секундах:'))"
   ]
  },
  {
   "cell_type": "code",
   "execution_count": null,
   "id": "4a78a818",
   "metadata": {},
   "outputs": [],
   "source": [
    "t1 = t//3600\n",
    "print (t1)"
   ]
  },
  {
   "cell_type": "code",
   "execution_count": null,
   "id": "cf24e2b8",
   "metadata": {},
   "outputs": [],
   "source": [
    "\n",
    "t2 = (t-t1*3600)//60\n",
    "print(t2)"
   ]
  },
  {
   "cell_type": "code",
   "execution_count": null,
   "id": "2f60d09a",
   "metadata": {},
   "outputs": [],
   "source": [
    "t3 = (t-t1*3600)%60\n",
    "print (t3)"
   ]
  },
  {
   "cell_type": "code",
   "execution_count": null,
   "id": "dcd0f343",
   "metadata": {},
   "outputs": [],
   "source": [
    "print (str(t1)+\":\"+str(t2)+\":\"+str(t3))"
   ]
  },
  {
   "cell_type": "markdown",
   "id": "cc1d1436",
   "metadata": {},
   "source": [
    "### Способ 2 "
   ]
  },
  {
   "cell_type": "code",
   "execution_count": null,
   "id": "d38238c3",
   "metadata": {},
   "outputs": [],
   "source": [
    "import datetime"
   ]
  },
  {
   "cell_type": "code",
   "execution_count": null,
   "id": "c7f7ae24",
   "metadata": {},
   "outputs": [],
   "source": [
    "d = int((input('введите время в секундах: ')))\n",
    "        "
   ]
  },
  {
   "cell_type": "code",
   "execution_count": null,
   "id": "57176284",
   "metadata": {},
   "outputs": [],
   "source": [
    "res = datetime.timedelta(seconds = d)\n",
    "print(res)"
   ]
  },
  {
   "cell_type": "markdown",
   "id": "1abdbc01",
   "metadata": {},
   "source": [
    "## 3. Узнайте у пользователя число n. Найдите сумму чисел n + nn + nnn. Например, пользователь ввёл число 3. Считаем 3 + 33 + 333 = 369."
   ]
  },
  {
   "cell_type": "code",
   "execution_count": 22,
   "id": "f3e1656a",
   "metadata": {},
   "outputs": [
    {
     "name": "stdout",
     "output_type": "stream",
     "text": [
      "введите n от 1 до 9: 5\n",
      "n+nn+nnn= 615\n"
     ]
    }
   ],
   "source": [
    "n = int(input('введите n от 1 до 9: '))\n",
    "a = n + n*10+n + n*100 + n*10 + n\n",
    "print ('n+nn+nnn=', a)"
   ]
  },
  {
   "cell_type": "markdown",
   "id": "b5a629c3",
   "metadata": {},
   "source": [
    "## 4. Пользователь вводит целое положительное число. Найдите самую большую цифру в числе."
   ]
  },
  {
   "cell_type": "code",
   "execution_count": 24,
   "id": "063f0ad3",
   "metadata": {},
   "outputs": [
    {
     "name": "stdout",
     "output_type": "stream",
     "text": [
      "введите целое положительное число: 3567\n",
      "7\n"
     ]
    }
   ],
   "source": [
    "a = int(input('введите целое положительное число: '))\n",
    "m = a%10\n",
    "a = a//10\n",
    "while a > 0:\n",
    "    if a%10 > m:\n",
    "        m = a%10\n",
    "    a = a//10\n",
    "print(m)"
   ]
  },
  {
   "cell_type": "markdown",
   "id": "df67f8d9",
   "metadata": {},
   "source": [
    "## 5. Запросите у пользователя значения выручки и издержек фирмы. Определите, с каким финансовым результатом работает фирма. Например, прибыль — выручка больше издержек, или убыток — издержки больше выручки. Выведите соответствующее сообщение."
   ]
  },
  {
   "cell_type": "code",
   "execution_count": 19,
   "id": "86a08e78",
   "metadata": {},
   "outputs": [
    {
     "name": "stdout",
     "output_type": "stream",
     "text": [
      "введите значение выручки: 200\n",
      "введите значение издержек: 180\n",
      "фирма работает с прибылью\n"
     ]
    }
   ],
   "source": [
    "v = int(input('введите значение выручки: '))\n",
    "i = int(input('введите значение издержек: '))\n",
    "if v > i:\n",
    "        print ('фирма работает с прибылью')\n",
    "elif i > v: \n",
    "        print ('фирма работает с убытком')\n",
    "else:\n",
    "    print ('фирма работает в 0')"
   ]
  },
  {
   "cell_type": "markdown",
   "id": "82168289",
   "metadata": {},
   "source": [
    "## 6. Если фирма отработала с прибылью, вычислите рентабельность выручки. Это отношение прибыли к выручке. Далее запросите численность сотрудников фирмы и определите прибыль фирмы в расчёте на одного сотрудника."
   ]
  },
  {
   "cell_type": "code",
   "execution_count": 20,
   "id": "b502f304",
   "metadata": {},
   "outputs": [
    {
     "name": "stdout",
     "output_type": "stream",
     "text": [
      "рентабельность = 0.1\n",
      "введите кол-во сотрудников в фирме: 30\n",
      "прибыль фирмы в расчёте на одного сотрудника=  0.6666666666666666\n"
     ]
    }
   ],
   "source": [
    "if v > i:\n",
    "    r=(v-i)/v\n",
    "    print ('рентабельность =',r )\n",
    "    d = int(input('введите кол-во сотрудников в фирме: '))\n",
    "    print ('прибыль фирмы в расчёте на одного сотрудника= ', (v-i)/d )"
   ]
  },
  {
   "cell_type": "markdown",
   "id": "2497af20",
   "metadata": {},
   "source": [
    "## 7. Спортсмен занимается ежедневными пробежками. В первый день его результат составил a километров. Каждый день спортсмен увеличивал результат на 10% относительно предыдущего. Требуется определить номер дня, на который результат спортсмена составит не менее b километров. Программа должна принимать значения параметров a и b и выводить одно натуральное число — номер дня."
   ]
  },
  {
   "cell_type": "code",
   "execution_count": 13,
   "id": "d5ab4a30",
   "metadata": {},
   "outputs": [
    {
     "name": "stdout",
     "output_type": "stream",
     "text": [
      "введите кол-во км в 1й день: 20\n",
      "введите кол-во км, которые нужно достигнуть: 25\n",
      "4\n"
     ]
    }
   ],
   "source": [
    "a = int(input('введите кол-во км в 1й день: '))\n",
    "b = int(input('введите кол-во км, которые нужно достигнуть: '))\n",
    "s = 1\n",
    "while a<b:\n",
    "    a = a*1.1\n",
    "    s += 1\n",
    "print (s)    "
   ]
  }
 ],
 "metadata": {
  "kernelspec": {
   "display_name": "Python 3",
   "language": "python",
   "name": "python3"
  },
  "language_info": {
   "codemirror_mode": {
    "name": "ipython",
    "version": 3
   },
   "file_extension": ".py",
   "mimetype": "text/x-python",
   "name": "python",
   "nbconvert_exporter": "python",
   "pygments_lexer": "ipython3",
   "version": "3.8.8"
  }
 },
 "nbformat": 4,
 "nbformat_minor": 5
}
